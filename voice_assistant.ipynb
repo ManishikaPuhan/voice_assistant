{
 "cells": [
  {
   "cell_type": "code",
   "execution_count": 3,
   "id": "d2cf03f6-6e7f-4bf0-857b-32b61e435df6",
   "metadata": {},
   "outputs": [
    {
     "name": "stdout",
     "output_type": "stream",
     "text": [
      "C:\\Users\\prahl\\anaconda3\\python.exe\n"
     ]
    }
   ],
   "source": [
    "import sys\n",
    "print(sys.executable)\n"
   ]
  },
  {
   "cell_type": "code",
   "execution_count": 5,
   "id": "dc55e57c-5fea-4a5e-89d6-93289f905b64",
   "metadata": {},
   "outputs": [
    {
     "name": "stdout",
     "output_type": "stream",
     "text": [
      "Collecting SpeechRecognition\n",
      "  Using cached SpeechRecognition-3.10.4-py2.py3-none-any.whl.metadata (28 kB)\n",
      "Collecting pyttsx3\n",
      "  Using cached pyttsx3-2.98-py3-none-any.whl.metadata (3.8 kB)\n",
      "Collecting pyaudio\n",
      "  Downloading PyAudio-0.2.14-cp312-cp312-win_amd64.whl.metadata (2.7 kB)\n",
      "Requirement already satisfied: requests>=2.26.0 in c:\\users\\prahl\\anaconda3\\lib\\site-packages (from SpeechRecognition) (2.32.2)\n",
      "Requirement already satisfied: typing-extensions in c:\\users\\prahl\\anaconda3\\lib\\site-packages (from SpeechRecognition) (4.11.0)\n",
      "Collecting comtypes (from pyttsx3)\n",
      "  Using cached comtypes-1.4.7-py3-none-any.whl.metadata (6.5 kB)\n",
      "Collecting pypiwin32 (from pyttsx3)\n",
      "  Using cached pypiwin32-223-py3-none-any.whl.metadata (236 bytes)\n",
      "Requirement already satisfied: pywin32 in c:\\users\\prahl\\anaconda3\\lib\\site-packages (from pyttsx3) (305.1)\n",
      "Requirement already satisfied: charset-normalizer<4,>=2 in c:\\users\\prahl\\anaconda3\\lib\\site-packages (from requests>=2.26.0->SpeechRecognition) (2.0.4)\n",
      "Requirement already satisfied: idna<4,>=2.5 in c:\\users\\prahl\\anaconda3\\lib\\site-packages (from requests>=2.26.0->SpeechRecognition) (3.7)\n",
      "Requirement already satisfied: urllib3<3,>=1.21.1 in c:\\users\\prahl\\anaconda3\\lib\\site-packages (from requests>=2.26.0->SpeechRecognition) (2.2.2)\n",
      "Requirement already satisfied: certifi>=2017.4.17 in c:\\users\\prahl\\anaconda3\\lib\\site-packages (from requests>=2.26.0->SpeechRecognition) (2024.8.30)\n",
      "Using cached SpeechRecognition-3.10.4-py2.py3-none-any.whl (32.8 MB)\n",
      "Using cached pyttsx3-2.98-py3-none-any.whl (34 kB)\n",
      "Downloading PyAudio-0.2.14-cp312-cp312-win_amd64.whl (164 kB)\n",
      "   ---------------------------------------- 0.0/164.1 kB ? eta -:--:--\n",
      "   ---------------------------------------- 0.0/164.1 kB ? eta -:--:--\n",
      "   ------- ------------------------------- 30.7/164.1 kB 660.6 kB/s eta 0:00:01\n",
      "   ---------------------------------- ----- 143.4/164.1 kB 1.7 MB/s eta 0:00:01\n",
      "   ---------------------------------------- 164.1/164.1 kB 1.7 MB/s eta 0:00:00\n",
      "Using cached comtypes-1.4.7-py3-none-any.whl (226 kB)\n",
      "Using cached pypiwin32-223-py3-none-any.whl (1.7 kB)\n",
      "Installing collected packages: pyaudio, pypiwin32, comtypes, SpeechRecognition, pyttsx3\n",
      "Successfully installed SpeechRecognition-3.10.4 comtypes-1.4.7 pyaudio-0.2.14 pypiwin32-223 pyttsx3-2.98\n"
     ]
    }
   ],
   "source": [
    "!pip install SpeechRecognition pyttsx3 pyaudio\n",
    "\n"
   ]
  },
  {
   "cell_type": "code",
   "execution_count": 7,
   "id": "b107e583-d66d-4c1c-8d6c-11d1584cd4ff",
   "metadata": {},
   "outputs": [
    {
     "name": "stdout",
     "output_type": "stream",
     "text": [
      "Libraries imported successfully.\n"
     ]
    }
   ],
   "source": [
    "import speech_recognition as sr\n",
    "import pyttsx3\n",
    "print(\"Libraries imported successfully.\")\n",
    "\n"
   ]
  },
  {
   "cell_type": "code",
   "execution_count": null,
   "id": "1582186f-70ce-46da-aa88-4fa52d286755",
   "metadata": {},
   "outputs": [],
   "source": [
    "import speech_recognition as sr\n",
    "import pyttsx3\n",
    "from datetime import datetime\n",
    "import webbrowser\n",
    "\n",
    "# Initialize the recognizer and the TTS engine\n",
    "recognizer = sr.Recognizer()\n",
    "tts_engine = pyttsx3.init()\n",
    "\n",
    "# Function to speak the output\n",
    "def speak(text):\n",
    "    tts_engine.say(text)\n",
    "    tts_engine.runAndWait()\n",
    "\n",
    "# Function to listen to audio and return the recognized text\n",
    "def listen():\n",
    "    with sr.Microphone() as source:\n",
    "        print(\"Listening...\")\n",
    "        audio = recognizer.listen(source)\n",
    "        try:\n",
    "            command = recognizer.recognize_google(audio)\n",
    "            print(f\"You said: {command}\")\n",
    "            return command\n",
    "        except sr.UnknownValueError:\n",
    "            speak(\"Sorry, I did not understand that.\")\n",
    "            return None\n",
    "        except sr.RequestError:\n",
    "            speak(\"Could not request results; check your network connection.\")\n",
    "            return None\n",
    "\n",
    "# Main function\n",
    "def main():\n",
    "    speak(\"Hello! I am your voice assistant.\")\n",
    "    \n",
    "    while True:\n",
    "        command = listen()\n",
    "        \n",
    "        if command is not None:\n",
    "            command = command.lower()\n",
    "\n",
    "            if \"hello\" in command:\n",
    "                speak(\"Hello! How can I assist you today?\")\n",
    "                \n",
    "            elif \"time\" in command:\n",
    "                current_time = datetime.now().strftime(\"%H:%M:%S\")\n",
    "                speak(f\"The current time is {current_time}.\")\n",
    "                \n",
    "            elif \"date\" in command:\n",
    "                current_date = datetime.now().strftime(\"%Y-%m-%d\")\n",
    "                speak(f\"Today's date is {current_date}.\")\n",
    "                \n",
    "            elif \"search\" in command:\n",
    "                query = command.replace(\"search\", \"\").strip()\n",
    "                webbrowser.open(f\"https://www.google.com/search?q={query}\")\n",
    "                speak(f\"Here are the results for {query}.\")\n",
    "                \n",
    "            elif \"exit\" in command or \"quit\" in command:\n",
    "                speak(\"Goodbye!\")\n",
    "                break\n",
    "\n",
    "if __name__ == \"__main__\":\n",
    "    main()\n"
   ]
  }
 ],
 "metadata": {
  "kernelspec": {
   "display_name": "Python 3 (ipykernel)",
   "language": "python",
   "name": "python3"
  },
  "language_info": {
   "codemirror_mode": {
    "name": "ipython",
    "version": 3
   },
   "file_extension": ".py",
   "mimetype": "text/x-python",
   "name": "python",
   "nbconvert_exporter": "python",
   "pygments_lexer": "ipython3",
   "version": "3.12.4"
  }
 },
 "nbformat": 4,
 "nbformat_minor": 5
}
